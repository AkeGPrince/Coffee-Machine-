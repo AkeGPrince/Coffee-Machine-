{
 "cells": [
  {
   "cell_type": "markdown",
   "id": "271f13a1",
   "metadata": {},
   "source": [
    "<h1 style=\"text-align: center\">\n",
    "    Concevoir un logiciel de distributeur de cannette. \n",
    "</h1>\n",
    "\n",
    "\n",
    "**Le distributeur**\n",
    "* Le distributeur contient 100 cannettes.\n",
    "* Le distributeur contient 11,50 €.\n",
    "* Une cannette vaut 1,50 €.\n",
    "\n",
    "<hr>\n",
    "\n",
    "**Le consommateur**\n",
    "* Un consommateur peut acheter une cannette. Le stock diminue de 1. La trésorerie est également modifiée.\n",
    "* Le distributeur peut rendre la monnaie.\n",
    "\n",
    "<hr>\n",
    "\n",
    "**Le technicien**\n",
    "* Le technicien doit s’authentifier.\n",
    "* Le technicien peut afficher l’état du stock et de la trésorerie.\n",
    "* Le technicien peut ajouter des cannettes.\n",
    "* Le technicien peut vider la caisse.\n",
    "\n",
    "==> Persister la donnée dans un `csv` par exemple, et remodifier le code déjà effectué pour gérer la mécanique de sérialisation et de deserialisation :\n",
    "\n",
    "<img src=\"images/serialisation.png\" alt=\"schema sur la sérialisation et déserialisation\">"
   ]
  },
  {
   "cell_type": "code",
   "execution_count": 15,
   "id": "918ac694",
   "metadata": {},
   "outputs": [],
   "source": [
    "import os\n",
    "from termcolor import colored, cprint\n",
    "\n",
    "# https://pypi.org/project/termcolor/ \n",
    "\n",
    "class Machine():\n",
    "    \n",
    "    def __init__(self, password = 'azerty'):\n",
    "        self.stock = 100\n",
    "        self.cash = 11.5\n",
    "        self.item_1 = 1.5\n",
    "        self.password = password\n",
    "        \n",
    "    def stock_down(self,qantity):\n",
    "        self.stock = self.stock - qantity\n",
    "        return self.stock\n",
    "    \n",
    "    def stock_up(self,qantity):\n",
    "        self.stock = self.stock + qantity\n",
    "        return self.stock\n",
    "    \n",
    "    def cash_down(self, coin, technicien = False):\n",
    "        if technicien:\n",
    "            self.cash_down_technicien(coin)\n",
    "        else:\n",
    "            self.cash = self.cash - coin\n",
    "        return self.cash\n",
    "\n",
    "    def cash_up(self,coin):\n",
    "        self.cash = self.cash + coin\n",
    "        return self.cash\n",
    "\n",
    "    def cash_back(self,coin):\n",
    "        self.cash_down(coin - self.item_1)\n",
    "        return coin - self.item_1\n",
    "    \n",
    "    def bad_amount(self,coin):\n",
    "        return coin < self.item_1\n",
    "    \n",
    "    def bad_stock(self,qantity):\n",
    "        return qantity > self.stock\n",
    "    \n",
    "            \n",
    "    \n",
    "    def buy(self,qantity,coin):\n",
    "        if (self.bad_amount(coin) or self.bad_stock(qantity)):\n",
    "            return f\"{self.build_sentence(qantity)}\"\n",
    "        else: \n",
    "            self.stock_down(qantity)\n",
    "            self.cash_up(coin)\n",
    "            \n",
    "            return Machine.error_or_valid_message(sentence=f\"Rendu monnaie 💰: {self.cash_back(coin)} €\", error=False)\n",
    "        \n",
    "    def display_menu(self):\n",
    "        coin = input(\"Mets ta pièce\\n\")\n",
    "        coin = float(coin)\n",
    "        #quantity = float(input(\"Combien de cannette ?  > \"))\n",
    "        self.buy(1,coin)\n",
    "        return None\n",
    "            \n",
    "\n",
    "    def check(self):\n",
    "        if self.verify_password():\n",
    "            for variable_instance, value in machine.__dict__.items():\n",
    "                    print(f\"{variable_instance} : {value}\")\n",
    "        else:\n",
    "            return Machine.error_or_valid_message(sentence='Mot de passe invalide')\n",
    "        \n",
    "    def cash_down_technicien(self,coin):\n",
    "        \n",
    "        if self.verify_password():\n",
    "            if self.cash > coin:\n",
    "                self.cash = self.cash - coin\n",
    "                return self.cash\n",
    "            else:\n",
    "                return Machine.error_or_valid_message(sentence=f\"Erreur : Vous demandez {coin} € alors qu'il y a {self.cash} € en trésorie ! \")\n",
    "        else:\n",
    "            return Machine.error_or_valid_message(sentence='Mot de passe invalide')\n",
    "        \n",
    "    def verify_password(self):\n",
    "        input_password = input(\"Entrez un mot de passe > \")\n",
    "        return self.password == input_password\n",
    "    \n",
    "    \n",
    "    def build_sentence(self,qantity):\n",
    "        if self.bad_stock(qantity):\n",
    "            Machine.error_or_valid_message(sentence=f\"Arsouille ! Tu as trop picolé ! Il n'y a plus de stock !\")\n",
    "            return None\n",
    "        else:\n",
    "            #Pour mac : \n",
    "            #return f\"Rentre chez toi, voyou {os.system('say VOYOU !')}\"\n",
    "            Machine.error_or_valid_message(sentence=f\"Pas assez d'argent. Rentre chez toi, VOYOU !\")\n",
    "            return None\n",
    "        \n",
    "    @classmethod\n",
    "    def error_or_valid_message(cls,sentence='', error=True):\n",
    "        if error:\n",
    "            color = 'red'\n",
    "        else:\n",
    "            color = 'green'\n",
    "        cprint(sentence, color, attrs=[\"reverse\", \"blink\"])\n",
    "        \n",
    "        "
   ]
  },
  {
   "cell_type": "code",
   "execution_count": 16,
   "id": "c24f0007",
   "metadata": {},
   "outputs": [
    {
     "name": "stdout",
     "output_type": "stream",
     "text": [
      "Mets ta pièce\n",
      "2\n",
      "\u001b[5m\u001b[7m\u001b[32mRendu monnaie 💰: 0.5 €\u001b[0m\n"
     ]
    }
   ],
   "source": [
    "machine = Machine()\n",
    "machine.display_menu()"
   ]
  },
  {
   "cell_type": "code",
   "execution_count": 17,
   "id": "48ab7666",
   "metadata": {},
   "outputs": [
    {
     "data": {
      "text/plain": [
       "99"
      ]
     },
     "metadata": {},
     "output_type": "display_data"
    },
    {
     "data": {
      "text/plain": [
       "13.0"
      ]
     },
     "metadata": {},
     "output_type": "display_data"
    },
    {
     "data": {
      "text/plain": [
       "'azerty'"
      ]
     },
     "metadata": {},
     "output_type": "display_data"
    }
   ],
   "source": [
    "display(machine.stock)\n",
    "\n",
    "display(machine.cash)\n",
    "\n",
    "display(machine.password)"
   ]
  },
  {
   "cell_type": "code",
   "execution_count": 18,
   "id": "b588d6a2",
   "metadata": {
    "scrolled": true
   },
   "outputs": [
    {
     "name": "stdout",
     "output_type": "stream",
     "text": [
      "Mets ta pièce\n",
      "2\n",
      "\u001b[5m\u001b[7m\u001b[32mRendu monnaie 💰: 0.5 €\u001b[0m\n"
     ]
    }
   ],
   "source": [
    "machine.display_menu()"
   ]
  },
  {
   "cell_type": "code",
   "execution_count": 19,
   "id": "d4f14fe1",
   "metadata": {},
   "outputs": [
    {
     "data": {
      "text/plain": [
       "98"
      ]
     },
     "execution_count": 19,
     "metadata": {},
     "output_type": "execute_result"
    }
   ],
   "source": [
    "machine.stock"
   ]
  },
  {
   "cell_type": "code",
   "execution_count": 20,
   "id": "141e3000",
   "metadata": {},
   "outputs": [
    {
     "data": {
      "text/plain": [
       "14.5"
      ]
     },
     "execution_count": 20,
     "metadata": {},
     "output_type": "execute_result"
    }
   ],
   "source": [
    "machine.cash"
   ]
  },
  {
   "cell_type": "code",
   "execution_count": 21,
   "id": "bd7b05d3",
   "metadata": {},
   "outputs": [
    {
     "data": {
      "text/plain": [
       "99"
      ]
     },
     "execution_count": 21,
     "metadata": {},
     "output_type": "execute_result"
    }
   ],
   "source": [
    "machine.stock_up(1)"
   ]
  },
  {
   "cell_type": "code",
   "execution_count": 22,
   "id": "b68b52f3",
   "metadata": {},
   "outputs": [
    {
     "data": {
      "text/plain": [
       "99"
      ]
     },
     "execution_count": 22,
     "metadata": {},
     "output_type": "execute_result"
    }
   ],
   "source": [
    "machine.stock"
   ]
  },
  {
   "cell_type": "code",
   "execution_count": 23,
   "id": "925145a4",
   "metadata": {},
   "outputs": [
    {
     "name": "stdout",
     "output_type": "stream",
     "text": [
      "Entrez un mot de passe > azerty\n",
      "stock : 99\n",
      "cash : 14.5\n",
      "item_1 : 1.5\n",
      "password : azerty\n"
     ]
    }
   ],
   "source": [
    "machine.check()"
   ]
  },
  {
   "cell_type": "code",
   "execution_count": 24,
   "id": "9171ce3a",
   "metadata": {},
   "outputs": [
    {
     "name": "stdout",
     "output_type": "stream",
     "text": [
      "Entrez un mot de passe > azerty\n"
     ]
    },
    {
     "data": {
      "text/plain": [
       "4.5"
      ]
     },
     "execution_count": 24,
     "metadata": {},
     "output_type": "execute_result"
    }
   ],
   "source": [
    "machine.cash_down(10, technicien = True)"
   ]
  },
  {
   "cell_type": "code",
   "execution_count": 25,
   "id": "862bd280",
   "metadata": {},
   "outputs": [
    {
     "name": "stdout",
     "output_type": "stream",
     "text": [
      "Entrez un mot de passe > azerty\n",
      "stock : 99\n",
      "cash : 4.5\n",
      "item_1 : 1.5\n",
      "password : azerty\n"
     ]
    }
   ],
   "source": [
    "machine.check()"
   ]
  }
 ],
 "metadata": {
  "hide_input": false,
  "kernelspec": {
   "display_name": "Python 3 (ipykernel)",
   "language": "python",
   "name": "python3"
  },
  "language_info": {
   "codemirror_mode": {
    "name": "ipython",
    "version": 3
   },
   "file_extension": ".py",
   "mimetype": "text/x-python",
   "name": "python",
   "nbconvert_exporter": "python",
   "pygments_lexer": "ipython3",
   "version": "3.8.12"
  },
  "toc": {
   "base_numbering": 1,
   "nav_menu": {},
   "number_sections": true,
   "sideBar": true,
   "skip_h1_title": false,
   "title_cell": "Table of Contents",
   "title_sidebar": "Contents",
   "toc_cell": false,
   "toc_position": {},
   "toc_section_display": true,
   "toc_window_display": false
  }
 },
 "nbformat": 4,
 "nbformat_minor": 5
}
